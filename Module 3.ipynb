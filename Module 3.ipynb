{
 "cells": [
  {
   "cell_type": "code",
   "execution_count": null,
   "id": "e1437e4f",
   "metadata": {},
   "outputs": [],
   "source": [
    "user_age = int(input('What is your age? '))\n",
    "if user_age > 30:\n",
    "    print('You are over 30 years old')\n",
    "    print('Sorry, you do not qualify')\n",
    "elif user_age == 30:\n",
    "    print('You are exactly 30 years old')\n",
    "    print('You will need to meet additional conditions to qualify')\n",
    "else:\n",
    "    print('You are 30 years old or younger')\n",
    "    print('Congratulations, you qualify!')\n"
   ]
  },
  {
   "cell_type": "code",
   "execution_count": 2,
   "id": "693b76ce",
   "metadata": {},
   "outputs": [],
   "source": [
    "#  available logical operators\n",
    "#\n",
    "#  <  less than\n",
    "#  >  greater than\n",
    "#  <= less than or equal\n",
    "#  >= greater than or equal\n",
    "#  == equals\n",
    "#  != not equals"
   ]
  },
  {
   "cell_type": "code",
   "execution_count": 7,
   "id": "3aeabcf5",
   "metadata": {},
   "outputs": [
    {
     "name": "stdout",
     "output_type": "stream",
     "text": [
      "Do you know the secret passworddsf\n",
      "not Correct\n"
     ]
    }
   ],
   "source": [
    "password = input('Do you know the secret password')\n",
    "if password != '--secret':\n",
    "    print('not Correct')\n",
    "else:\n",
    "    print('correct')"
   ]
  },
  {
   "cell_type": "code",
   "execution_count": 10,
   "id": "16d77b89",
   "metadata": {},
   "outputs": [
    {
     "name": "stdout",
     "output_type": "stream",
     "text": [
      "Condition true\n"
     ]
    }
   ],
   "source": [
    "if True:\n",
    "    print('Condition true')"
   ]
  },
  {
   "cell_type": "code",
   "execution_count": 11,
   "id": "7d13c22d",
   "metadata": {},
   "outputs": [],
   "source": [
    "if False:\n",
    "    print('Condition met')"
   ]
  },
  {
   "cell_type": "code",
   "execution_count": 12,
   "id": "9dec47b1",
   "metadata": {},
   "outputs": [
    {
     "name": "stdout",
     "output_type": "stream",
     "text": [
      "True\n"
     ]
    }
   ],
   "source": [
    "if 2 == 2:\n",
    "    print('True')"
   ]
  },
  {
   "cell_type": "code",
   "execution_count": 15,
   "id": "c8f9c4d6",
   "metadata": {},
   "outputs": [],
   "source": [
    "if 1 ==2:\n",
    "    print('True')"
   ]
  },
  {
   "cell_type": "code",
   "execution_count": 16,
   "id": "d054ed62",
   "metadata": {},
   "outputs": [
    {
     "name": "stdout",
     "output_type": "stream",
     "text": [
      "TRUE\n"
     ]
    }
   ],
   "source": [
    "if 2 == 2.0:\n",
    "    print('TRUE')"
   ]
  },
  {
   "cell_type": "markdown",
   "id": "bb773cc9",
   "metadata": {},
   "source": [
    "# Joining multiple conditions"
   ]
  },
  {
   "cell_type": "code",
   "execution_count": 1,
   "id": "9988fe92",
   "metadata": {},
   "outputs": [
    {
     "name": "stdout",
     "output_type": "stream",
     "text": [
      "What is your age? 26\n",
      "What is your country? Germany\n",
      "Sorry, you do not qualify\n"
     ]
    }
   ],
   "source": [
    "user_age = int(input('What is your age? '))\n",
    "user_country = input('What is your country? ')\n",
    "\n",
    "if user_age < 25 and user_country == 'Germany':\n",
    "    print('You can apply for a German student exchange programme')\n",
    "else:\n",
    "    print('Sorry, you do not qualify')"
   ]
  },
  {
   "cell_type": "code",
   "execution_count": 2,
   "id": "e7083c74",
   "metadata": {},
   "outputs": [
    {
     "name": "stdout",
     "output_type": "stream",
     "text": [
      "What is your country?Sweden\n",
      "You can apply for a Scandinavian student exchange programme\n"
     ]
    }
   ],
   "source": [
    "user_country = input('What is your country?')\n",
    "\n",
    "if user_country == 'Sweden' or user_country == 'Denmark' or user_country == 'Norway':\n",
    "    print('You can apply for a Scandinavian student exchange programme')\n",
    "else:\n",
    "    print('Sorry, you do not qualify')\n"
   ]
  },
  {
   "cell_type": "code",
   "execution_count": null,
   "id": "1a61d66b",
   "metadata": {},
   "outputs": [],
   "source": [
    "user_country = input('Where do you come from? ')\n",
    "if not user_country == 'Germany':\n",
    "    print('you are not from Germany!')\n",
    "else:\n",
    "    print('you are from Germany')"
   ]
  },
  {
   "cell_type": "code",
   "execution_count": null,
   "id": "de3fd5d8",
   "metadata": {},
   "outputs": [],
   "source": [
    "user_age = int(input('What is your age? '))\n",
    "user_country = input('What is your country? ')\n",
    "\n",
    "if not user_country == 'Germany' and user_age < 25 or \\\n",
    "   user_country == 'Germany' and user_age < 23:\n",
    "    print('You qualify!')\n",
    "else:\n",
    "    print('You don\\'t qualify!')\n"
   ]
  },
  {
   "cell_type": "code",
   "execution_count": null,
   "id": "dffcac1f",
   "metadata": {},
   "outputs": [],
   "source": [
    "# 1. not\n",
    "# 2. and\n",
    "# 3. or"
   ]
  },
  {
   "cell_type": "markdown",
   "id": "452cf729",
   "metadata": {},
   "source": [
    "# Nested If\n"
   ]
  },
  {
   "cell_type": "code",
   "execution_count": 11,
   "id": "a0a9d674",
   "metadata": {},
   "outputs": [
    {
     "name": "stdout",
     "output_type": "stream",
     "text": [
      "do you like travelling? y/n:y\n",
      "good\n",
      "do you like asiay\n",
      "good\n"
     ]
    }
   ],
   "source": [
    "answer_a = input('do you like travelling? y/n:')\n",
    "if answer_a == 'y':\n",
    "    print('good')\n",
    "    answer_b = input('do you like asia')\n",
    "    if answer_b == 'y':\n",
    "            print('good')\n",
    "    else:\n",
    "            print('sorry to hear that')\n",
    "else:\n",
    "    print('sorry to hear that')"
   ]
  },
  {
   "cell_type": "code",
   "execution_count": null,
   "id": "7b499047",
   "metadata": {},
   "outputs": [],
   "source": [
    "Refund Policy Helper\n",
    "\n",
    "Let's help an online store with their new refund policy. In this store, you can return an item and get a refund in 2 cases:\n",
    "\n",
    "1. Within 10 days from the day of purchase, given that you have not used the item, or\n",
    "2. No matter when you bought it, when the item broke down through no fault of your own.\n",
    "\n",
    "Write a program that first asks the user three questions and then informs them whether they can get a refund. Ask the following questions:\n",
    "\n",
    "How many days ago have you purchased the item? << add a space at the end of this prompt\n",
    "\n",
    "Have you used the item at all [y/n]?  << add a space at the end of this prompt\n",
    "\n",
    "Has the item broken down on its own [y/n]?  << add a space at the end of this prompt\n",
    "\n",
    "Based on the answers and the refund policy explained above, print either:\n",
    "You can get a refund.\n",
    "or:\n",
    "You cannot get a refund."
   ]
  },
  {
   "cell_type": "code",
   "execution_count": 17,
   "id": "7c1d3a32",
   "metadata": {},
   "outputs": [
    {
     "name": "stdout",
     "output_type": "stream",
     "text": [
      "How many days ago have you purchased the item? 11\n",
      "Have you used the item at all [y/n]? y\n",
      "Has the item broken down on its own [y/n]? y\n",
      "You can get a refund.\n"
     ]
    }
   ],
   "source": [
    "answer_a = int(input('How many days ago have you purchased the item? '))\n",
    "answer_b = input('Have you used the item at all [y/n]? ')\n",
    "answer_c = input('Has the item broken down on its own [y/n]? ')\n",
    "\n",
    "if (answer_a <= 10 and answer_b == 'n') or answer_c == 'y':\n",
    "    print('You can get a refund.')\n",
    "else:\n",
    "    print('You cannot get a refund.')"
   ]
  },
  {
   "cell_type": "code",
   "execution_count": 19,
   "id": "db3d5d83",
   "metadata": {},
   "outputs": [
    {
     "name": "stdout",
     "output_type": "stream",
     "text": [
      "How many days ago have you purchased the item? 11\n",
      "Have you used the item at all [y/n]? y\n",
      "Has the item broken down on its own [y/n]? n\n",
      "You cannot get a refund.\n"
     ]
    }
   ],
   "source": [
    "purchase_days_ago = int(input('How many days ago have you purchased the item? '))\n",
    "is_used = input('Have you used the item at all [y/n]? ')\n",
    "is_broken = input('Has the item broken down on its own [y/n]? ')\n",
    "     \n",
    "if(is_broken == 'y' or (purchase_days_ago <= 10 and is_used == 'n')):\n",
    "    print('You can get a refund.')\n",
    "else:\n",
    "    print('You cannot get a refund.')"
   ]
  },
  {
   "cell_type": "markdown",
   "id": "bda97579",
   "metadata": {},
   "source": [
    "# While Loop"
   ]
  },
  {
   "cell_type": "code",
   "execution_count": null,
   "id": "c01ea69b",
   "metadata": {},
   "outputs": [],
   "source": [
    "while condition:\n",
    "    do_something()\n",
    "    do_something2()"
   ]
  },
  {
   "cell_type": "code",
   "execution_count": 21,
   "id": "802bbadb",
   "metadata": {
    "collapsed": true
   },
   "outputs": [
    {
     "name": "stdout",
     "output_type": "stream",
     "text": [
      "1\n",
      "2\n",
      "3\n",
      "4\n",
      "5\n",
      "6\n",
      "7\n",
      "8\n",
      "9\n",
      "10\n",
      "11\n",
      "finish\n"
     ]
    }
   ],
   "source": [
    "counter = 1\n",
    "while counter <= 11:\n",
    "    print(counter)\n",
    "    counter += 1\n",
    "print('finish')"
   ]
  },
  {
   "cell_type": "code",
   "execution_count": 22,
   "id": "48a9251f",
   "metadata": {
    "collapsed": true
   },
   "outputs": [
    {
     "name": "stdout",
     "output_type": "stream",
     "text": [
      "\n",
      "==========================\n",
      "=== SECRET NUMBER GAME ===\n",
      "==========================\n",
      "\n",
      "Try to guess the secret number from 0 to 20: 13\n",
      "Wrong!\n",
      "Try to guess the secret number from 0 to 20: 14\n",
      "Perfect! You have guessed the secret number.\n"
     ]
    }
   ],
   "source": [
    "secret_number = 14\n",
    "print('''\n",
    "==========================\n",
    "=== SECRET NUMBER GAME ===\n",
    "==========================\n",
    "''')\n",
    "user_input = int(input('Try to guess the secret number from 0 to 20: '))\n",
    "while user_input != secret_number:\n",
    "    print('Wrong!')\n",
    "    user_input = int(input('Try to guess the secret number from 0 to 20: '))\n",
    "print('Perfect! You have guessed the secret number.')"
   ]
  },
  {
   "cell_type": "markdown",
   "id": "70fd270a",
   "metadata": {},
   "source": [
    "# For loop"
   ]
  },
  {
   "cell_type": "code",
   "execution_count": 23,
   "id": "45b1ff53",
   "metadata": {},
   "outputs": [
    {
     "name": "stdout",
     "output_type": "stream",
     "text": [
      "Current letter: h\n",
      "Current letter: e\n",
      "Current letter: l\n",
      "Current letter: l\n",
      "Current letter: o\n",
      "Current letter: !\n"
     ]
    }
   ],
   "source": [
    "for letter in 'hello!':\n",
    "    print('Current letter:', letter)"
   ]
  },
  {
   "cell_type": "code",
   "execution_count": 26,
   "id": "fd397737",
   "metadata": {},
   "outputs": [
    {
     "name": "stdout",
     "output_type": "stream",
     "text": [
      "1\n",
      "2\n",
      "3\n",
      "4\n",
      "5\n",
      "6\n",
      "7\n",
      "8\n",
      "9\n",
      "10\n",
      "11\n",
      "finish\n"
     ]
    }
   ],
   "source": [
    "for counter in range(1, 12):\n",
    "    print(counter)\n",
    "print('finish')"
   ]
  },
  {
   "cell_type": "code",
   "execution_count": 25,
   "id": "53d16aa1",
   "metadata": {},
   "outputs": [
    {
     "name": "stdout",
     "output_type": "stream",
     "text": [
      "1\n",
      "5\n",
      "9\n",
      "Finished!\n"
     ]
    }
   ],
   "source": [
    "for counter in range(1, 11, 4):\n",
    "    print(counter)\n",
    "print('Finished!')"
   ]
  },
  {
   "cell_type": "markdown",
   "id": "b5ab08e5",
   "metadata": {},
   "source": [
    "# Break continue"
   ]
  },
  {
   "cell_type": "code",
   "execution_count": 27,
   "id": "ae5185d7",
   "metadata": {},
   "outputs": [
    {
     "name": "stdout",
     "output_type": "stream",
     "text": [
      "Enter your name or EXIT to close the program: daniel\n",
      "Hello daniel\n",
      "Enter your name or EXIT to close the program: EXIT\n"
     ]
    }
   ],
   "source": [
    "while True:\n",
    "    name = input('Enter your name or EXIT to close the program: ')\n",
    "    if (name == 'EXIT'):\n",
    "        break\n",
    "    print('Hello', name)\n"
   ]
  },
  {
   "cell_type": "code",
   "execution_count": 29,
   "id": "050d6b80",
   "metadata": {},
   "outputs": [
    {
     "name": "stdout",
     "output_type": "stream",
     "text": [
      "1\n",
      "2\n",
      "3\n",
      "4\n",
      "6\n",
      "7\n",
      "8\n",
      "9\n",
      "11\n",
      "12\n",
      "13\n",
      "14\n",
      "16\n",
      "17\n",
      "18\n",
      "19\n"
     ]
    }
   ],
   "source": [
    "for i in range(1, 21): \n",
    "    if i % 5 == 0: #divisible by 5\n",
    "        continue\n",
    "    print(i)"
   ]
  },
  {
   "cell_type": "markdown",
   "id": "035b0796",
   "metadata": {},
   "source": [
    "# Loop additional"
   ]
  },
  {
   "cell_type": "code",
   "execution_count": 30,
   "id": "caa783bd",
   "metadata": {},
   "outputs": [],
   "source": [
    "for i in range(11):\n",
    "    pass"
   ]
  },
  {
   "cell_type": "code",
   "execution_count": 32,
   "id": "c8634be3",
   "metadata": {
    "collapsed": true
   },
   "outputs": [
    {
     "name": "stdout",
     "output_type": "stream",
     "text": [
      "1 x 1 = 1\n",
      "1 x 2 = 2\n",
      "1 x 3 = 3\n",
      "1 x 4 = 4\n",
      "1 x 5 = 5\n",
      "1 x 6 = 6\n",
      "1 x 7 = 7\n",
      "1 x 8 = 8\n",
      "1 x 9 = 9\n",
      "1 x 10 = 10\n",
      "2 x 1 = 2\n",
      "2 x 2 = 4\n",
      "2 x 3 = 6\n",
      "2 x 4 = 8\n",
      "2 x 5 = 10\n",
      "2 x 6 = 12\n",
      "2 x 7 = 14\n",
      "2 x 8 = 16\n",
      "2 x 9 = 18\n",
      "2 x 10 = 20\n",
      "3 x 1 = 3\n",
      "3 x 2 = 6\n",
      "3 x 3 = 9\n",
      "3 x 4 = 12\n",
      "3 x 5 = 15\n",
      "3 x 6 = 18\n",
      "3 x 7 = 21\n",
      "3 x 8 = 24\n",
      "3 x 9 = 27\n",
      "3 x 10 = 30\n",
      "4 x 1 = 4\n",
      "4 x 2 = 8\n",
      "4 x 3 = 12\n",
      "4 x 4 = 16\n",
      "4 x 5 = 20\n",
      "4 x 6 = 24\n",
      "4 x 7 = 28\n",
      "4 x 8 = 32\n",
      "4 x 9 = 36\n",
      "4 x 10 = 40\n",
      "5 x 1 = 5\n",
      "5 x 2 = 10\n",
      "5 x 3 = 15\n",
      "5 x 4 = 20\n",
      "5 x 5 = 25\n",
      "5 x 6 = 30\n",
      "5 x 7 = 35\n",
      "5 x 8 = 40\n",
      "5 x 9 = 45\n",
      "5 x 10 = 50\n",
      "6 x 1 = 6\n",
      "6 x 2 = 12\n",
      "6 x 3 = 18\n",
      "6 x 4 = 24\n",
      "6 x 5 = 30\n",
      "6 x 6 = 36\n",
      "6 x 7 = 42\n",
      "6 x 8 = 48\n",
      "6 x 9 = 54\n",
      "6 x 10 = 60\n",
      "7 x 1 = 7\n",
      "7 x 2 = 14\n",
      "7 x 3 = 21\n",
      "7 x 4 = 28\n",
      "7 x 5 = 35\n",
      "7 x 6 = 42\n",
      "7 x 7 = 49\n",
      "7 x 8 = 56\n",
      "7 x 9 = 63\n",
      "7 x 10 = 70\n",
      "8 x 1 = 8\n",
      "8 x 2 = 16\n",
      "8 x 3 = 24\n",
      "8 x 4 = 32\n",
      "8 x 5 = 40\n",
      "8 x 6 = 48\n",
      "8 x 7 = 56\n",
      "8 x 8 = 64\n",
      "8 x 9 = 72\n",
      "8 x 10 = 80\n",
      "9 x 1 = 9\n",
      "9 x 2 = 18\n",
      "9 x 3 = 27\n",
      "9 x 4 = 36\n",
      "9 x 5 = 45\n",
      "9 x 6 = 54\n",
      "9 x 7 = 63\n",
      "9 x 8 = 72\n",
      "9 x 9 = 81\n",
      "9 x 10 = 90\n",
      "10 x 1 = 10\n",
      "10 x 2 = 20\n",
      "10 x 3 = 30\n",
      "10 x 4 = 40\n",
      "10 x 5 = 50\n",
      "10 x 6 = 60\n",
      "10 x 7 = 70\n",
      "10 x 8 = 80\n",
      "10 x 9 = 90\n",
      "10 x 10 = 100\n"
     ]
    }
   ],
   "source": [
    "for a in range(1,11):\n",
    "    for b in range(1, 11):\n",
    "         print(a, 'x', b, '=', a * b)\n"
   ]
  },
  {
   "cell_type": "code",
   "execution_count": 33,
   "id": "9707bb0b",
   "metadata": {},
   "outputs": [
    {
     "name": "stdout",
     "output_type": "stream",
     "text": [
      "2\n",
      "3\n",
      "4\n",
      "else: 5\n"
     ]
    }
   ],
   "source": [
    "i = 2\n",
    "while i < 5:\n",
    "    print(i)\n",
    "    i += 1\n",
    "else:\n",
    "    print('else:', i)\n"
   ]
  },
  {
   "cell_type": "code",
   "execution_count": null,
   "id": "72fb24e6",
   "metadata": {},
   "outputs": [],
   "source": [
    "Ask the user to guess the year when Python 1.0 was released (the correct answer is 1994) with the following prompt:\n",
    "\n",
    "When was Python 1.0 released? << remember to add a space at the end of this prompt\n",
    "\n",
    "If the user answers 1994, show:\n",
    "\n",
    "Correct!\n",
    "\n",
    "and finish the program. \n",
    "If the user answers with any year that is later than 1994, show a hint and ask again for a new year on a new line:\n",
    "\n",
    "It was earlier than that!\n",
    "When was Python 1.0 released? << remember to add a space\n",
    "\n",
    "If the user answers with any year that is earlier than 1994, show a hint and ask again for a new year on a new line:\n",
    "\n",
    "It was later than that!\n",
    "When was Python 1.0 released? << remember to add a space"
   ]
  },
  {
   "cell_type": "code",
   "execution_count": null,
   "id": "f7ea66f3",
   "metadata": {},
   "outputs": [],
   "source": [
    "\n"
   ]
  },
  {
   "cell_type": "code",
   "execution_count": 41,
   "id": "a3abb7f8",
   "metadata": {},
   "outputs": [
    {
     "name": "stdout",
     "output_type": "stream",
     "text": [
      "When was Python 1.0 released? 1992\n",
      "It was later than that!\n",
      "When was Python 1.0 released? \n",
      "When was Python 1.0 released? 1995\n",
      "It was earlier than that!\n",
      "When was Python 1.0 released? \n",
      "When was Python 1.0 released? 1994\n",
      "correct\n"
     ]
    }
   ],
   "source": [
    "\n",
    "while True:\n",
    "    Question = int(input('When was Python 1.0 released? '))\n",
    "\n",
    "    if Question == int(1994):\n",
    "        print('correct')\n",
    "        break\n",
    "    elif Question < int(1994):\n",
    "        print('It was later than that!')\n",
    "        print('When was Python 1.0 released? ')\n",
    "    elif Question >int(1994):\n",
    "        print('It was earlier than that!')\n",
    "        print('When was Python 1.0 released? ')\n",
    "    \n"
   ]
  },
  {
   "cell_type": "code",
   "execution_count": 39,
   "id": "10781652",
   "metadata": {},
   "outputs": [
    {
     "name": "stdout",
     "output_type": "stream",
     "text": [
      "When was Python 1.0 released? 1996\n",
      "It was earlier than that!\n",
      "When was Python 1.0 released? 1993\n",
      "It was later than that!\n",
      "When was Python 1.0 released? 1994\n",
      "correct\n"
     ]
    }
   ],
   "source": [
    "while True:  # This loop will continue indefinitely until a 'break' statement is encountered\n",
    "    Question = int(input('When was Python 1.0 released? '))\n",
    "\n",
    "    if Question == 1994:\n",
    "        print('correct')\n",
    "        break  # This will exit the loop when the user's answer is correct\n",
    "    elif Question < 1994:\n",
    "        print('It was later than that!')\n",
    "    elif Question > 1994:\n",
    "        print('It was earlier than that!')"
   ]
  },
  {
   "cell_type": "code",
   "execution_count": null,
   "id": "72c37caf",
   "metadata": {},
   "outputs": [],
   "source": [
    "while True:\n",
    "    answer = int(input('When was Python 1.0 released? '))\n",
    "    if answer > 1994:\n",
    "        print('It was earlier than that!')\n",
    "    elif answer < 1994:\n",
    "        print('It was later than that!')\n",
    "    else:\n",
    "        print('Correct!')\n",
    "        break"
   ]
  },
  {
   "cell_type": "code",
   "execution_count": 42,
   "id": "795554ed",
   "metadata": {},
   "outputs": [
    {
     "name": "stdout",
     "output_type": "stream",
     "text": [
      "*\n"
     ]
    }
   ],
   "source": [
    "i = 0\n",
    "while i <= 10:\n",
    "    i += 1\n",
    "    if i % 2 == 0:\n",
    "        break\n",
    "    print('*')"
   ]
  },
  {
   "cell_type": "code",
   "execution_count": 44,
   "id": "7fd6c35b",
   "metadata": {},
   "outputs": [],
   "source": [
    "x = 1\n",
    "x = x == x"
   ]
  },
  {
   "cell_type": "code",
   "execution_count": 46,
   "id": "e977ecdf",
   "metadata": {},
   "outputs": [
    {
     "name": "stdout",
     "output_type": "stream",
     "text": [
      "True\n"
     ]
    }
   ],
   "source": [
    "a = 5\n",
    "b = 1\n",
    "c = a > b or b < a and a == 1\n",
    "print(c)"
   ]
  },
  {
   "cell_type": "code",
   "execution_count": 47,
   "id": "a6e90768",
   "metadata": {},
   "outputs": [
    {
     "ename": "SyntaxError",
     "evalue": "invalid syntax (4143849006.py, line 6)",
     "output_type": "error",
     "traceback": [
      "\u001b[1;36m  Cell \u001b[1;32mIn[47], line 6\u001b[1;36m\u001b[0m\n\u001b[1;33m    else:\u001b[0m\n\u001b[1;37m    ^\u001b[0m\n\u001b[1;31mSyntaxError\u001b[0m\u001b[1;31m:\u001b[0m invalid syntax\n"
     ]
    }
   ],
   "source": [
    "choice = int(input('Pick a number: '))\n",
    "if choice == 3:\n",
    "     print('Good choice')\n",
    "else:\n",
    "    print('You could have chosen better')\n",
    "else:\n",
    "    print('No luck this time')"
   ]
  },
  {
   "cell_type": "code",
   "execution_count": null,
   "id": "5c861008",
   "metadata": {},
   "outputs": [],
   "source": [
    "answer_a = int(input('Try to guess the first number: '))\n",
    "     \n",
    "if answer_a == 8:\n",
    "    answer_b = int(input('Correct! Now, guess the second number: '))\n",
    "    if answer_b == 5:\n",
    "        print('You won!')\n",
    "    else:\n",
    "        print('You only got one number right. So close!')\n",
    "else:\n",
    "    print('Wrong!')"
   ]
  },
  {
   "cell_type": "code",
   "execution_count": 1,
   "id": "f5229f1a",
   "metadata": {},
   "outputs": [
    {
     "name": "stdout",
     "output_type": "stream",
     "text": [
      "i\n",
      " \n",
      "a\n",
      "m\n",
      " \n",
      "h\n",
      "a\n",
      "v\n",
      "i\n",
      "n\n",
      "g\n",
      " \n",
      "f\n",
      "u\n",
      "n\n",
      " \n",
      "t\n",
      "o\n",
      "d\n",
      "a\n",
      "y\n"
     ]
    }
   ],
   "source": [
    "for x in 'i am having fun today':\n",
    "    print(x)"
   ]
  },
  {
   "cell_type": "code",
   "execution_count": 4,
   "id": "ddaee83a",
   "metadata": {},
   "outputs": [
    {
     "name": "stdout",
     "output_type": "stream",
     "text": [
      "1-2-3-"
     ]
    }
   ],
   "source": [
    "for i in range(1, 12):\n",
    "    if i % 4 == 0:\n",
    "        break\n",
    "    print(i, end='-')"
   ]
  },
  {
   "cell_type": "code",
   "execution_count": 5,
   "id": "a23db57d",
   "metadata": {},
   "outputs": [
    {
     "name": "stdout",
     "output_type": "stream",
     "text": [
      "1 2 3 4 5 "
     ]
    }
   ],
   "source": [
    "i = 1\n",
    "while i < 5:\n",
    "    print(i, end=' ')\n",
    "    i += 1\n",
    "else:\n",
    "    print(i, end=' ')\n",
    "\n"
   ]
  },
  {
   "cell_type": "code",
   "execution_count": null,
   "id": "aeaa23b0",
   "metadata": {},
   "outputs": [],
   "source": []
  }
 ],
 "metadata": {
  "kernelspec": {
   "display_name": "Python 3 (ipykernel)",
   "language": "python",
   "name": "python3"
  },
  "language_info": {
   "codemirror_mode": {
    "name": "ipython",
    "version": 3
   },
   "file_extension": ".py",
   "mimetype": "text/x-python",
   "name": "python",
   "nbconvert_exporter": "python",
   "pygments_lexer": "ipython3",
   "version": "3.11.3"
  }
 },
 "nbformat": 4,
 "nbformat_minor": 5
}
