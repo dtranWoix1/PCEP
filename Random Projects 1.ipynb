{
 "cells": [
  {
   "cell_type": "markdown",
   "id": "c5286173",
   "metadata": {},
   "source": [
    "# FizzBuzz:\n",
    "\n",
    "For numbers from 1 to 100:\n",
    "        If the number is divisible by 3, print \"Fizz\".\n",
    "        If it's divisible by 5, print \"Buzz\".\n",
    "        If it's divisible by both, print \"FizzBuzz\".\n",
    "        Otherwise, print the number."
   ]
  },
  {
   "cell_type": "code",
   "execution_count": 2,
   "id": "1d539822",
   "metadata": {
    "collapsed": true
   },
   "outputs": [
    {
     "name": "stdout",
     "output_type": "stream",
     "text": [
      "1\n",
      "2\n",
      "Fizz\n",
      "4\n",
      "Buzz\n",
      "Fizz\n",
      "7\n",
      "8\n",
      "Fizz\n",
      "Buzz\n",
      "11\n",
      "Fizz\n",
      "13\n",
      "14\n",
      "FizzBuzz\n",
      "16\n",
      "17\n",
      "Fizz\n",
      "19\n",
      "Buzz\n",
      "Fizz\n",
      "22\n",
      "23\n",
      "Fizz\n",
      "Buzz\n",
      "26\n",
      "Fizz\n",
      "28\n",
      "29\n",
      "FizzBuzz\n",
      "31\n",
      "32\n",
      "Fizz\n",
      "34\n",
      "Buzz\n",
      "Fizz\n",
      "37\n",
      "38\n",
      "Fizz\n",
      "Buzz\n",
      "41\n",
      "Fizz\n",
      "43\n",
      "44\n",
      "FizzBuzz\n",
      "46\n",
      "47\n",
      "Fizz\n",
      "49\n",
      "Buzz\n",
      "Fizz\n",
      "52\n",
      "53\n",
      "Fizz\n",
      "Buzz\n",
      "56\n",
      "Fizz\n",
      "58\n",
      "59\n",
      "FizzBuzz\n",
      "61\n",
      "62\n",
      "Fizz\n",
      "64\n",
      "Buzz\n",
      "Fizz\n",
      "67\n",
      "68\n",
      "Fizz\n",
      "Buzz\n",
      "71\n",
      "Fizz\n",
      "73\n",
      "74\n",
      "FizzBuzz\n",
      "76\n",
      "77\n",
      "Fizz\n",
      "79\n",
      "Buzz\n",
      "Fizz\n",
      "82\n",
      "83\n",
      "Fizz\n",
      "Buzz\n",
      "86\n",
      "Fizz\n",
      "88\n",
      "89\n",
      "FizzBuzz\n",
      "91\n",
      "92\n",
      "Fizz\n",
      "94\n",
      "Buzz\n",
      "Fizz\n",
      "97\n",
      "98\n",
      "Fizz\n"
     ]
    }
   ],
   "source": [
    "for numbers in range(1,100):\n",
    "    if numbers %5==0 and numbers %3 ==0:\n",
    "        print('FizzBuzz')\n",
    "    elif numbers %5 ==0:\n",
    "        print('Buzz')\n",
    "    elif numbers %3 ==0:\n",
    "        print('Fizz')\n",
    "    else:\n",
    "        print(numbers)"
   ]
  },
  {
   "cell_type": "markdown",
   "id": "f871c8bf",
   "metadata": {},
   "source": [
    "# Number Guessing Game:\n",
    "\n",
    "    The computer randomly selects a number between 1 and 100.\n",
    "    The player tries to guess the number.\n",
    "    After each guess, the computer should provide a hint like \"Too High!\" or \"Too Low!\".\n",
    "    The game ends when the player guesses the number, or after a certain number of tries."
   ]
  },
  {
   "cell_type": "code",
   "execution_count": 18,
   "id": "c5e220d4",
   "metadata": {},
   "outputs": [
    {
     "name": "stdout",
     "output_type": "stream",
     "text": [
      "Please enter a number1\n",
      "Too low\n",
      "Please enter a number2\n",
      "Too low\n",
      "Please enter a number3\n",
      "You lost!, the secret number is: 5\n"
     ]
    }
   ],
   "source": [
    "# Need revise overtime\n",
    "\n",
    "import random\n",
    "secret_number = random.randint(1,5)\n",
    "attempt = 0\n",
    "max_attempt = 3\n",
    "\n",
    "while True:\n",
    "    attempt += 1\n",
    "    guess = int(input('Please enter a number'))\n",
    "    \n",
    "    if attempt == max_attempt:\n",
    "        print('You lost, the secret number is:', secret_number)\n",
    "        break\n",
    "    elif guess== secret_number:\n",
    "        print('Congrat! You got the sectret number')\n",
    "        break\n",
    "    elif guess > secret_number:\n",
    "        print('Too High')\n",
    "    elif guess < secret_number:\n",
    "        print('Too low')\n",
    "    \n",
    "    "
   ]
  },
  {
   "cell_type": "markdown",
   "id": "60979b29",
   "metadata": {},
   "source": [
    "# Multiplication Table Generator:\n",
    "\n",
    "    Ask the user for a number.\n",
    "    Generate and display the multiplication table for that number using loops."
   ]
  },
  {
   "cell_type": "code",
   "execution_count": 26,
   "id": "2427a50e",
   "metadata": {
    "collapsed": true
   },
   "outputs": [
    {
     "name": "stdout",
     "output_type": "stream",
     "text": [
      "Please provide a number:8\n",
      "8 * 1 = 8\n",
      "8 * 2 = 16\n",
      "8 * 3 = 24\n",
      "8 * 4 = 32\n",
      "8 * 5 = 40\n",
      "8 * 6 = 48\n",
      "8 * 7 = 56\n",
      "8 * 8 = 64\n",
      "8 * 9 = 72\n",
      "8 * 10 = 80\n"
     ]
    }
   ],
   "source": [
    "# Need revise overtime\n",
    "\n",
    "\n",
    "num =int(input('Please provide a number:'))\\\n",
    "\n",
    "for i in range(1,11):\n",
    "    product = num * i\n",
    "    print(f\"{num} * {i} = {product}\")"
   ]
  },
  {
   "cell_type": "markdown",
   "id": "ef41c468",
   "metadata": {},
   "source": [
    "# Simple Calculator:\n",
    "\n",
    "    Continuously ask the user for two numbers and an operation (e.g., add, subtract, multiply, divide).\n",
    "    Perform the operation and display the result.\n",
    "    Keep going until the user decides to exit."
   ]
  },
  {
   "cell_type": "code",
   "execution_count": 37,
   "id": "21e7d7e7",
   "metadata": {
    "collapsed": true
   },
   "outputs": [
    {
     "name": "stdout",
     "output_type": "stream",
     "text": [
      "Please provide the first number5\n",
      "Please provide the second number6\n",
      "Please provide the operation (add,subtract,multiply,divide,exit)subtract\n",
      "5-6= -1\n",
      "Please provide the first number1\n",
      "Please provide the second number0\n",
      "Please provide the operation (add,subtract,multiply,divide,exit)divide\n",
      "You cant divide by zero\n"
     ]
    },
    {
     "ename": "KeyboardInterrupt",
     "evalue": "Interrupted by user",
     "output_type": "error",
     "traceback": [
      "\u001b[1;31m---------------------------------------------------------------------------\u001b[0m",
      "\u001b[1;31mKeyboardInterrupt\u001b[0m                         Traceback (most recent call last)",
      "Cell \u001b[1;32mIn[37], line 4\u001b[0m\n\u001b[0;32m      1\u001b[0m \u001b[38;5;28;01mwhile\u001b[39;00m \u001b[38;5;28;01mTrue\u001b[39;00m:\n\u001b[0;32m      3\u001b[0m     \u001b[38;5;28;01mtry\u001b[39;00m:\n\u001b[1;32m----> 4\u001b[0m         a \u001b[38;5;241m=\u001b[39m \u001b[38;5;28mint\u001b[39m(\u001b[38;5;28minput\u001b[39m(\u001b[38;5;124m'\u001b[39m\u001b[38;5;124mPlease provide the first number\u001b[39m\u001b[38;5;124m'\u001b[39m))\n\u001b[0;32m      5\u001b[0m         b \u001b[38;5;241m=\u001b[39m \u001b[38;5;28mint\u001b[39m(\u001b[38;5;28minput\u001b[39m(\u001b[38;5;124m'\u001b[39m\u001b[38;5;124mPlease provide the second number\u001b[39m\u001b[38;5;124m'\u001b[39m))\n\u001b[0;32m      6\u001b[0m     \u001b[38;5;28;01mexcept\u001b[39;00m \u001b[38;5;167;01mValueError\u001b[39;00m:\n",
      "File \u001b[1;32mC:\\Anaconda\\Lib\\site-packages\\ipykernel\\kernelbase.py:1175\u001b[0m, in \u001b[0;36mKernel.raw_input\u001b[1;34m(self, prompt)\u001b[0m\n\u001b[0;32m   1171\u001b[0m \u001b[38;5;28;01mif\u001b[39;00m \u001b[38;5;129;01mnot\u001b[39;00m \u001b[38;5;28mself\u001b[39m\u001b[38;5;241m.\u001b[39m_allow_stdin:\n\u001b[0;32m   1172\u001b[0m     \u001b[38;5;28;01mraise\u001b[39;00m StdinNotImplementedError(\n\u001b[0;32m   1173\u001b[0m         \u001b[38;5;124m\"\u001b[39m\u001b[38;5;124mraw_input was called, but this frontend does not support input requests.\u001b[39m\u001b[38;5;124m\"\u001b[39m\n\u001b[0;32m   1174\u001b[0m     )\n\u001b[1;32m-> 1175\u001b[0m \u001b[38;5;28;01mreturn\u001b[39;00m \u001b[38;5;28mself\u001b[39m\u001b[38;5;241m.\u001b[39m_input_request(\n\u001b[0;32m   1176\u001b[0m     \u001b[38;5;28mstr\u001b[39m(prompt),\n\u001b[0;32m   1177\u001b[0m     \u001b[38;5;28mself\u001b[39m\u001b[38;5;241m.\u001b[39m_parent_ident[\u001b[38;5;124m\"\u001b[39m\u001b[38;5;124mshell\u001b[39m\u001b[38;5;124m\"\u001b[39m],\n\u001b[0;32m   1178\u001b[0m     \u001b[38;5;28mself\u001b[39m\u001b[38;5;241m.\u001b[39mget_parent(\u001b[38;5;124m\"\u001b[39m\u001b[38;5;124mshell\u001b[39m\u001b[38;5;124m\"\u001b[39m),\n\u001b[0;32m   1179\u001b[0m     password\u001b[38;5;241m=\u001b[39m\u001b[38;5;28;01mFalse\u001b[39;00m,\n\u001b[0;32m   1180\u001b[0m )\n",
      "File \u001b[1;32mC:\\Anaconda\\Lib\\site-packages\\ipykernel\\kernelbase.py:1217\u001b[0m, in \u001b[0;36mKernel._input_request\u001b[1;34m(self, prompt, ident, parent, password)\u001b[0m\n\u001b[0;32m   1214\u001b[0m             \u001b[38;5;28;01mbreak\u001b[39;00m\n\u001b[0;32m   1215\u001b[0m \u001b[38;5;28;01mexcept\u001b[39;00m \u001b[38;5;167;01mKeyboardInterrupt\u001b[39;00m:\n\u001b[0;32m   1216\u001b[0m     \u001b[38;5;66;03m# re-raise KeyboardInterrupt, to truncate traceback\u001b[39;00m\n\u001b[1;32m-> 1217\u001b[0m     \u001b[38;5;28;01mraise\u001b[39;00m \u001b[38;5;167;01mKeyboardInterrupt\u001b[39;00m(\u001b[38;5;124m\"\u001b[39m\u001b[38;5;124mInterrupted by user\u001b[39m\u001b[38;5;124m\"\u001b[39m) \u001b[38;5;28;01mfrom\u001b[39;00m \u001b[38;5;28;01mNone\u001b[39;00m\n\u001b[0;32m   1218\u001b[0m \u001b[38;5;28;01mexcept\u001b[39;00m \u001b[38;5;167;01mException\u001b[39;00m:\n\u001b[0;32m   1219\u001b[0m     \u001b[38;5;28mself\u001b[39m\u001b[38;5;241m.\u001b[39mlog\u001b[38;5;241m.\u001b[39mwarning(\u001b[38;5;124m\"\u001b[39m\u001b[38;5;124mInvalid Message:\u001b[39m\u001b[38;5;124m\"\u001b[39m, exc_info\u001b[38;5;241m=\u001b[39m\u001b[38;5;28;01mTrue\u001b[39;00m)\n",
      "\u001b[1;31mKeyboardInterrupt\u001b[0m: Interrupted by user"
     ]
    }
   ],
   "source": [
    "# Need little revise overtime\n",
    "\n",
    "\n",
    "while True:\n",
    "    \n",
    "    try:\n",
    "        a = int(input('Please provide the first number'))\n",
    "        b = int(input('Please provide the second number'))\n",
    "    except ValueError:\n",
    "        print('Please enter a number')\n",
    "        continue\n",
    "    \n",
    "    \n",
    "    c = input('Please provide the operation (add,subtract,multiply,divide,exit)')\n",
    "    if c == 'add':\n",
    "        result = a + b\n",
    "        print(f\"{a}+{b}= {result}\") \n",
    "    elif c == 'subtract':\n",
    "        result = a-b\n",
    "        print(f\"{a}-{b}= {result}\") \n",
    "    elif c == 'multiply':\n",
    "        result = a*b\n",
    "        print(f\"{a}*{b}= {result}\") \n",
    "    elif c == 'divide':\n",
    "        try:\n",
    "            result = a/b\n",
    "            print(f\"{a}/{b}= {result}\") \n",
    "        except ZeroDivisionError:\n",
    "            print('You cant divide by zero')\n",
    "            continue\n",
    "    elif c == 'exit':\n",
    "        print('Goodbye')\n",
    "        break"
   ]
  },
  {
   "cell_type": "markdown",
   "id": "da97fc74",
   "metadata": {},
   "source": [
    "# Counting Patterns:\n",
    "\n",
    "    Print patterns using numbers and loops.\n",
    "    For example:"
   ]
  },
  {
   "cell_type": "code",
   "execution_count": null,
   "id": "6d2b6caa",
   "metadata": {},
   "outputs": [],
   "source": []
  }
 ],
 "metadata": {
  "kernelspec": {
   "display_name": "Python 3 (ipykernel)",
   "language": "python",
   "name": "python3"
  },
  "language_info": {
   "codemirror_mode": {
    "name": "ipython",
    "version": 3
   },
   "file_extension": ".py",
   "mimetype": "text/x-python",
   "name": "python",
   "nbconvert_exporter": "python",
   "pygments_lexer": "ipython3",
   "version": "3.11.3"
  }
 },
 "nbformat": 4,
 "nbformat_minor": 5
}
