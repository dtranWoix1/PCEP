{
 "cells": [
  {
   "cell_type": "code",
   "execution_count": 3,
   "id": "7bf77545",
   "metadata": {},
   "outputs": [
    {
     "name": "stdout",
     "output_type": "stream",
     "text": [
      "Height converter: enter your height in cm: 12\n"
     ]
    },
    {
     "ename": "TypeError",
     "evalue": "unsupported operand type(s) for /: 'str' and 'float'",
     "output_type": "error",
     "traceback": [
      "\u001b[1;31m---------------------------------------------------------------------------\u001b[0m",
      "\u001b[1;31mTypeError\u001b[0m                                 Traceback (most recent call last)",
      "Cell \u001b[1;32mIn[3], line 2\u001b[0m\n\u001b[0;32m      1\u001b[0m height_cm \u001b[38;5;241m=\u001b[39m \u001b[38;5;28minput\u001b[39m(\u001b[38;5;124m'\u001b[39m\u001b[38;5;124mHeight converter: enter your height in cm: \u001b[39m\u001b[38;5;124m'\u001b[39m)\n\u001b[1;32m----> 2\u001b[0m \u001b[38;5;28mprint\u001b[39m(\u001b[38;5;124m'\u001b[39m\u001b[38;5;124mYour height in feet is:\u001b[39m\u001b[38;5;124m'\u001b[39m, height_cm \u001b[38;5;241m/\u001b[39m \u001b[38;5;241m30.48\u001b[39m )\n",
      "\u001b[1;31mTypeError\u001b[0m: unsupported operand type(s) for /: 'str' and 'float'"
     ]
    }
   ],
   "source": [
    "height_cm = input('Height converter: enter your height in cm: ')\n",
    "print('Your height in feet is:', height_cm / 30.48 )"
   ]
  },
  {
   "cell_type": "code",
   "execution_count": null,
   "id": "85ae60df",
   "metadata": {},
   "outputs": [],
   "source": [
    "height_cm = input('Height converter: enter your height in cm: ')\n",
    "float_height_cm = float(height_cm) # Need to make the value float instead of string. \n",
    "print('Your height in feet is:', float_height_cm / 30.48 )"
   ]
  },
  {
   "cell_type": "code",
   "execution_count": 4,
   "id": "0891c7df",
   "metadata": {},
   "outputs": [
    {
     "name": "stdout",
     "output_type": "stream",
     "text": [
      "What year were you born?2000\n",
      "In 2100, you will be 100 years old, provided you live this long!\n"
     ]
    }
   ],
   "source": [
    "year_born = int(input('What year were you born?'))\n",
    "print('In 2100, you will be', 2100 - year_born, 'years old, provided you live this long!') \n",
    "#2100 is an integer, so needs to change it to integer"
   ]
  },
  {
   "cell_type": "code",
   "execution_count": 6,
   "id": "ce98a328",
   "metadata": {},
   "outputs": [
    {
     "name": "stdout",
     "output_type": "stream",
     "text": [
      "Enter the temperature today in Celsius degrees: 27\n",
      "27 degrees Celsius equals 80.6 degrees Fahrenheit.\n"
     ]
    }
   ],
   "source": [
    "temp_c = input('Enter the temperature today in Celsius degrees: ')\n",
    "temp_f = float(temp_c) * 1.8 + 32\n",
    "temp_statement = str(temp_c) + ' degrees Celsius equals ' + str(temp_f) + ' degrees Fahrenheit.'\n",
    "print(temp_statement)"
   ]
  },
  {
   "cell_type": "code",
   "execution_count": 7,
   "id": "03b7e6ca",
   "metadata": {},
   "outputs": [
    {
     "data": {
      "text/plain": [
       "''"
      ]
     },
     "execution_count": 7,
     "metadata": {},
     "output_type": "execute_result"
    }
   ],
   "source": [
    "float()\n",
    "int()\n",
    "str()"
   ]
  },
  {
   "cell_type": "code",
   "execution_count": null,
   "id": "bfa666de",
   "metadata": {},
   "outputs": [],
   "source": [
    "#Salary calculator\n",
    "\n",
    "Ask the user for the number of hours they worked last month and their hourly rate (both numbers should be floats). \n",
    "\n",
    "Use the following prompts:\n",
    "\n",
    "How many hours did you work last month? << add a space at the end of this prompt\n",
    "What is your hourly rate? << add a space at the end of this prompt\n",
    "\n",
    "Then, show the following message with the calculated salary:\n",
    "\n",
    "Last month, you earned {hours * hourly_rate} dollars\n",
    "\n",
    "The salary should be shown as a float number. For example, for input 30 hours and hourly rate 10.5, show:\n",
    "\n",
    "Last month, you earned 315.0 dollars\n",
    "\n",
    "Watch out for typos: you must show the output in this particular format!"
   ]
  },
  {
   "cell_type": "code",
   "execution_count": 13,
   "id": "b4cc5151",
   "metadata": {},
   "outputs": [
    {
     "name": "stdout",
     "output_type": "stream",
     "text": [
      "How many hours did you work last month?10.5\n",
      "What is your hourly rate?8.2\n",
      "Last month, you earned 86.1 dollars\n"
     ]
    }
   ],
   "source": [
    "Hours_month = input('How many hours did you work last month?')\n",
    "Hours_month = float(Hours_month)\n",
    "\n",
    "Hourly_rate = input('What is your hourly rate?')\n",
    "Hourly_rate = float(Hourly_rate)\n",
    "\n",
    "print('Last month, you earned', Hours_month*Hourly_rate, 'dollars')\n",
    "\n",
    "# or this\n",
    "hours = float(input('How many hours did you work last month? '))\n",
    "rate = float(input('What is your hourly rate? '))\n",
    "     \n",
    "print('Last month, you earned', hours * rate ,'dollars')"
   ]
  },
  {
   "cell_type": "markdown",
   "id": "c8dca025",
   "metadata": {},
   "source": [
    "# Operators\n"
   ]
  },
  {
   "cell_type": "code",
   "execution_count": 1,
   "id": "2764a67e",
   "metadata": {},
   "outputs": [
    {
     "name": "stdout",
     "output_type": "stream",
     "text": [
      "0.1\n"
     ]
    }
   ],
   "source": [
    "print(0.1)"
   ]
  },
  {
   "cell_type": "code",
   "execution_count": 2,
   "id": "05fdc1ea",
   "metadata": {},
   "outputs": [
    {
     "name": "stdout",
     "output_type": "stream",
     "text": [
      "0.30000000000000004\n"
     ]
    }
   ],
   "source": [
    "print(0.1+0.1+0.1)"
   ]
  },
  {
   "cell_type": "code",
   "execution_count": 3,
   "id": "8f96a47b",
   "metadata": {},
   "outputs": [
    {
     "data": {
      "text/plain": [
       "256"
      ]
     },
     "execution_count": 3,
     "metadata": {},
     "output_type": "execute_result"
    }
   ],
   "source": [
    "2 ** 2 ** 3"
   ]
  },
  {
   "cell_type": "code",
   "execution_count": 4,
   "id": "930aaef7",
   "metadata": {},
   "outputs": [
    {
     "data": {
      "text/plain": [
       "6"
      ]
     },
     "execution_count": 4,
     "metadata": {},
     "output_type": "execute_result"
    }
   ],
   "source": [
    "len('Hello!')"
   ]
  },
  {
   "cell_type": "code",
   "execution_count": 6,
   "id": "5efce405",
   "metadata": {},
   "outputs": [
    {
     "name": "stdout",
     "output_type": "stream",
     "text": [
      "Hello, World!\n",
      "Python speaking!\n"
     ]
    }
   ],
   "source": [
    "print('Hello, World!')\n",
    "print('Python speaking!') "
   ]
  },
  {
   "cell_type": "code",
   "execution_count": 5,
   "id": "2db8b4c3",
   "metadata": {},
   "outputs": [
    {
     "name": "stdout",
     "output_type": "stream",
     "text": [
      "Hello, World!.Python speaking!\n"
     ]
    }
   ],
   "source": [
    "print('Hello, World!', end='.')\n",
    "print('Python speaking!') "
   ]
  },
  {
   "cell_type": "code",
   "execution_count": 7,
   "id": "4606931c",
   "metadata": {},
   "outputs": [
    {
     "name": "stdout",
     "output_type": "stream",
     "text": [
      "Your first name is-John-Welcome!="
     ]
    }
   ],
   "source": [
    "first_name = 'John'\n",
    "print('Your first name is', first_name, 'Welcome!', sep='-', end='=')"
   ]
  },
  {
   "cell_type": "code",
   "execution_count": 2,
   "id": "ca370f07",
   "metadata": {},
   "outputs": [
    {
     "name": "stdout",
     "output_type": "stream",
     "text": [
      "Please provide your avg rating: 5.0\n",
      "5.05.05.0\n"
     ]
    }
   ],
   "source": [
    "    average_rating = input('Please provide your avg rating: ')\n",
    "    print(average_rating * 3)"
   ]
  },
  {
   "cell_type": "code",
   "execution_count": 4,
   "id": "fd2124db",
   "metadata": {},
   "outputs": [
    {
     "name": "stdout",
     "output_type": "stream",
     "text": [
      "First number: 13\n",
      "Second number: 3\n",
      "1 0\n"
     ]
    }
   ],
   "source": [
    "a = int(input('First number: '))\n",
    "b = int(input('Second number: '))\n",
    "     \n",
    "a = a % b\n",
    "b = b % a\n",
    "     \n",
    "print(a, b)\n",
    "    \n",
    "#Given the following code, what will be the output when the user enters two numbers, first 13 and then 3?"
   ]
  },
  {
   "cell_type": "code",
   "execution_count": 5,
   "id": "7963a78e",
   "metadata": {},
   "outputs": [
    {
     "data": {
      "text/plain": [
       "1"
      ]
     },
     "execution_count": 5,
     "metadata": {},
     "output_type": "execute_result"
    }
   ],
   "source": [
    "13%3"
   ]
  },
  {
   "cell_type": "code",
   "execution_count": 6,
   "id": "f155dee5",
   "metadata": {},
   "outputs": [
    {
     "data": {
      "text/plain": [
       "0"
      ]
     },
     "execution_count": 6,
     "metadata": {},
     "output_type": "execute_result"
    }
   ],
   "source": [
    "3%1"
   ]
  },
  {
   "cell_type": "code",
   "execution_count": 7,
   "id": "cadf04ac",
   "metadata": {},
   "outputs": [
    {
     "data": {
      "text/plain": [
       "0"
      ]
     },
     "execution_count": 7,
     "metadata": {},
     "output_type": "execute_result"
    }
   ],
   "source": [
    "1 // 2 * 3"
   ]
  },
  {
   "cell_type": "code",
   "execution_count": 8,
   "id": "867d0fc2",
   "metadata": {},
   "outputs": [
    {
     "data": {
      "text/plain": [
       "0"
      ]
     },
     "execution_count": 8,
     "metadata": {},
     "output_type": "execute_result"
    }
   ],
   "source": [
    "1//2"
   ]
  },
  {
   "cell_type": "code",
   "execution_count": 9,
   "id": "5c5afd37",
   "metadata": {},
   "outputs": [
    {
     "name": "stdout",
     "output_type": "stream",
     "text": [
      "Please provide a number: boom!\n"
     ]
    },
    {
     "ename": "ValueError",
     "evalue": "invalid literal for int() with base 10: 'boom!'",
     "output_type": "error",
     "traceback": [
      "\u001b[1;31m---------------------------------------------------------------------------\u001b[0m",
      "\u001b[1;31mValueError\u001b[0m                                Traceback (most recent call last)",
      "Cell \u001b[1;32mIn[9], line 3\u001b[0m\n\u001b[0;32m      1\u001b[0m \u001b[38;5;66;03m# What will happen after the following code is run and the user provides the following: boom!\u001b[39;00m\n\u001b[1;32m----> 3\u001b[0m number \u001b[38;5;241m=\u001b[39m \u001b[38;5;28mint\u001b[39m(\u001b[38;5;28minput\u001b[39m(\u001b[38;5;124m'\u001b[39m\u001b[38;5;124mPlease provide a number: \u001b[39m\u001b[38;5;124m'\u001b[39m))\n\u001b[0;32m      4\u001b[0m \u001b[38;5;28mprint\u001b[39m(number)\n",
      "\u001b[1;31mValueError\u001b[0m: invalid literal for int() with base 10: 'boom!'"
     ]
    }
   ],
   "source": [
    "# What will happen after the following code is run and the user provides the following: boom!\n",
    "\n",
    "number = int(input('Please provide a number: '))\n",
    "print(number)"
   ]
  },
  {
   "cell_type": "code",
   "execution_count": 10,
   "id": "40feb0c7",
   "metadata": {},
   "outputs": [
    {
     "ename": "SyntaxError",
     "evalue": "positional argument follows keyword argument (117391511.py, line 2)",
     "output_type": "error",
     "traceback": [
      "\u001b[1;36m  Cell \u001b[1;32mIn[10], line 2\u001b[1;36m\u001b[0m\n\u001b[1;33m    print(sep=' - ', 'Your first name is', first_name, 'Welcome!')\u001b[0m\n\u001b[1;37m                                                                 ^\u001b[0m\n\u001b[1;31mSyntaxError\u001b[0m\u001b[1;31m:\u001b[0m positional argument follows keyword argument\n"
     ]
    }
   ],
   "source": [
    "first_name = 'John'\n",
    "print(sep=' - ', 'Your first name is', first_name, 'Welcome!')"
   ]
  },
  {
   "cell_type": "code",
   "execution_count": 11,
   "id": "f538568a",
   "metadata": {},
   "outputs": [
    {
     "name": "stdout",
     "output_type": "stream",
     "text": [
      "2\n"
     ]
    }
   ],
   "source": [
    "x = 0\n",
    "y = 1\n",
    "a = x ^ y\n",
    "b = x | y\n",
    "c = x & y\n",
    "print(a + b + c)"
   ]
  },
  {
   "cell_type": "code",
   "execution_count": 12,
   "id": "55e155ad",
   "metadata": {},
   "outputs": [
    {
     "name": "stdout",
     "output_type": "stream",
     "text": [
      "9\n"
     ]
    }
   ],
   "source": [
    "print(18 >> 1) "
   ]
  },
  {
   "cell_type": "code",
   "execution_count": null,
   "id": "bd7020b4",
   "metadata": {},
   "outputs": [],
   "source": []
  }
 ],
 "metadata": {
  "kernelspec": {
   "display_name": "Python 3 (ipykernel)",
   "language": "python",
   "name": "python3"
  },
  "language_info": {
   "codemirror_mode": {
    "name": "ipython",
    "version": 3
   },
   "file_extension": ".py",
   "mimetype": "text/x-python",
   "name": "python",
   "nbconvert_exporter": "python",
   "pygments_lexer": "ipython3",
   "version": "3.11.3"
  }
 },
 "nbformat": 4,
 "nbformat_minor": 5
}
