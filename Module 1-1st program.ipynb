{
 "cells": [
  {
   "cell_type": "code",
   "execution_count": 2,
   "id": "65bdcbb4",
   "metadata": {},
   "outputs": [
    {
     "name": "stdout",
     "output_type": "stream",
     "text": [
      "hello, world!\n"
     ]
    }
   ],
   "source": [
    "print('hello, world!')"
   ]
  },
  {
   "cell_type": "code",
   "execution_count": 5,
   "id": "331367b6",
   "metadata": {},
   "outputs": [
    {
     "name": "stdout",
     "output_type": "stream",
     "text": [
      "I'm studying Python\n",
      "and having fun\n"
     ]
    }
   ],
   "source": [
    "print('I\\'m studying Python')\n",
    "print('and having fun')      "
   ]
  },
  {
   "cell_type": "code",
   "execution_count": 7,
   "id": "130f271e",
   "metadata": {},
   "outputs": [
    {
     "name": "stdout",
     "output_type": "stream",
     "text": [
      "I'm studying Python and having fun\n"
     ]
    }
   ],
   "source": [
    "print('I\\'m studying Python','and having fun')"
   ]
  },
  {
   "cell_type": "code",
   "execution_count": 9,
   "id": "9b3d5229",
   "metadata": {},
   "outputs": [
    {
     "name": "stdout",
     "output_type": "stream",
     "text": [
      "I'm studying\n",
      "Python\n"
     ]
    }
   ],
   "source": [
    "print('I\\'m studying\\nPython') # \\n means go down"
   ]
  },
  {
   "cell_type": "code",
   "execution_count": 10,
   "id": "e8628a53",
   "metadata": {},
   "outputs": [
    {
     "name": "stdout",
     "output_type": "stream",
     "text": [
      "I'm learning to become a Python developer!\n",
      "I'm so excited!\n"
     ]
    }
   ],
   "source": [
    "print('I\\'m learning to become a Python developer!\\nI\\'m so excited!')"
   ]
  },
  {
   "cell_type": "code",
   "execution_count": 3,
   "id": "fa0a3c31",
   "metadata": {},
   "outputs": [
    {
     "name": "stdout",
     "output_type": "stream",
     "text": [
      "Hello, friend!\n",
      "Hi, everybody\n"
     ]
    }
   ],
   "source": [
    "greeting = 'Hello, friend!'\n",
    "print(greeting)\n",
    "greeting = 'Hi, everybody'\n",
    "print(greeting)"
   ]
  },
  {
   "cell_type": "code",
   "execution_count": null,
   "id": "10745d43",
   "metadata": {},
   "outputs": [],
   "source": [
    "# naming variable\n",
    "\n",
    "_correctName\n",
    "correctname\n",
    "correctName82\n",
    "85incorrect"
   ]
  },
  {
   "cell_type": "code",
   "execution_count": 4,
   "id": "2167d945",
   "metadata": {},
   "outputs": [],
   "source": [
    "greeting = 'Hello, friend!'\n"
   ]
  },
  {
   "cell_type": "code",
   "execution_count": 8,
   "id": "a5e4ea8c",
   "metadata": {},
   "outputs": [
    {
     "data": {
      "text/plain": [
       "int"
      ]
     },
     "execution_count": 8,
     "metadata": {},
     "output_type": "execute_result"
    }
   ],
   "source": [
    "age = 35\n",
    "type(age)"
   ]
  },
  {
   "cell_type": "code",
   "execution_count": 7,
   "id": "05cae52c",
   "metadata": {},
   "outputs": [
    {
     "data": {
      "text/plain": [
       "str"
      ]
     },
     "execution_count": 7,
     "metadata": {},
     "output_type": "execute_result"
    }
   ],
   "source": [
    "age = '35'\n",
    "type(age)"
   ]
  },
  {
   "cell_type": "code",
   "execution_count": 11,
   "id": "15f99c72",
   "metadata": {},
   "outputs": [
    {
     "data": {
      "text/plain": [
       "float"
      ]
     },
     "execution_count": 11,
     "metadata": {},
     "output_type": "execute_result"
    }
   ],
   "source": [
    "speed1 = 4.5\n",
    "type(speed1)"
   ]
  },
  {
   "cell_type": "code",
   "execution_count": 12,
   "id": "bded87e9",
   "metadata": {},
   "outputs": [
    {
     "data": {
      "text/plain": [
       "bool"
      ]
     },
     "execution_count": 12,
     "metadata": {},
     "output_type": "execute_result"
    }
   ],
   "source": [
    "# boolean is either true or false\n",
    "\n",
    "am_I_ugly = True\n",
    "type(am_I_ugly)"
   ]
  },
  {
   "cell_type": "code",
   "execution_count": 13,
   "id": "6326572a",
   "metadata": {},
   "outputs": [
    {
     "data": {
      "text/plain": [
       "float"
      ]
     },
     "execution_count": 13,
     "metadata": {},
     "output_type": "execute_result"
    }
   ],
   "source": [
    "#underscores in numbers\n",
    "\n",
    "12000300\n",
    "12_000_300"
   ]
  },
  {
   "cell_type": "code",
   "execution_count": 14,
   "id": "bae3ecd8",
   "metadata": {},
   "outputs": [
    {
     "name": "stdout",
     "output_type": "stream",
     "text": [
      "3e-27\n"
     ]
    }
   ],
   "source": [
    "#scientific notation\n",
    "# scientific notation\n",
    "# 3e4 = 3E4 = 3 * 10000 = 30000\n",
    "# 3e-4 = 3E-4 = 3 * 1/10000 = 0.0003\n",
    "print(0.000000000000000000000000003)"
   ]
  },
  {
   "cell_type": "code",
   "execution_count": 15,
   "id": "c1dbfaab",
   "metadata": {},
   "outputs": [
    {
     "name": "stdout",
     "output_type": "stream",
     "text": [
      "83\n"
     ]
    }
   ],
   "source": [
    "# octal numbers\n",
    "# start with 0O or 0o\n",
    "print(0o123)"
   ]
  },
  {
   "cell_type": "code",
   "execution_count": 16,
   "id": "711fb259",
   "metadata": {},
   "outputs": [
    {
     "name": "stdout",
     "output_type": "stream",
     "text": [
      "291\n"
     ]
    }
   ],
   "source": [
    "# hexadecimal numbers\n",
    "# start with 0X or 0x\n",
    "print(0x123)"
   ]
  },
  {
   "cell_type": "code",
   "execution_count": 17,
   "id": "37dbeb1f",
   "metadata": {},
   "outputs": [
    {
     "data": {
      "text/plain": [
       "8"
      ]
     },
     "execution_count": 17,
     "metadata": {},
     "output_type": "execute_result"
    }
   ],
   "source": [
    "# power operator\n",
    "\n",
    "2**3"
   ]
  },
  {
   "cell_type": "code",
   "execution_count": 18,
   "id": "9af76505",
   "metadata": {},
   "outputs": [
    {
     "name": "stdout",
     "output_type": "stream",
     "text": [
      "Your income is 250000 and you would pay 12500.0 income tax in Lowtaxland or 107500.0 income tax in Ripoffland. You would save 95000.0 by paying taxes in Lowtaxland!\n"
     ]
    }
   ],
   "source": [
    "# Just some random exercises for PCEP\n",
    "\n",
    "income = 250_000\n",
    "\n",
    "lowtaxland_rate = 0.05\n",
    "lowtaxland_tax = income*lowtaxland_rate\n",
    "ripoffland_rate = 0.43\n",
    "ripoffland_tax = income*ripoffland_rate\n",
    "difference_between_the_tax_amounts = ripoffland_tax-lowtaxland_tax\n",
    "\n",
    "print(\n",
    "    'Your income is', income, 'and you would pay', lowtaxland_tax,\n",
    "    'income tax in Lowtaxland or', ripoffland_tax, 'income tax in Ripoffland.',\n",
    "    'You would save' ,difference_between_the_tax_amounts, 'by paying taxes in Lowtaxland!' )"
   ]
  },
  {
   "cell_type": "code",
   "execution_count": 20,
   "id": "8598d65e",
   "metadata": {},
   "outputs": [
    {
     "name": "stdout",
     "output_type": "stream",
     "text": [
      "28\n"
     ]
    }
   ],
   "source": [
    "age = 28\n",
    "print(age)"
   ]
  },
  {
   "cell_type": "code",
   "execution_count": 21,
   "id": "17d3eb82",
   "metadata": {},
   "outputs": [
    {
     "name": "stdout",
     "output_type": "stream",
     "text": [
      "31\n"
     ]
    }
   ],
   "source": [
    "age = 28\n",
    "new_age = age +3\n",
    "print(new_age)"
   ]
  },
  {
   "cell_type": "code",
   "execution_count": 22,
   "id": "7269c6ce",
   "metadata": {},
   "outputs": [
    {
     "name": "stdout",
     "output_type": "stream",
     "text": [
      "35\n"
     ]
    }
   ],
   "source": [
    "age = 28\n",
    "new_age = age +7 \n",
    "print(new_age)"
   ]
  },
  {
   "cell_type": "code",
   "execution_count": 23,
   "id": "5a4aa36f",
   "metadata": {},
   "outputs": [
    {
     "name": "stdout",
     "output_type": "stream",
     "text": [
      "35\n"
     ]
    }
   ],
   "source": [
    "age = 28\n",
    "age +=7\n",
    "print(age)"
   ]
  },
  {
   "cell_type": "code",
   "execution_count": 24,
   "id": "22800ae2",
   "metadata": {},
   "outputs": [
    {
     "name": "stdout",
     "output_type": "stream",
     "text": [
      "hokuspokus\n"
     ]
    }
   ],
   "source": [
    "text = 'hokus' + 'pokus'\n",
    "print(text)"
   ]
  },
  {
   "cell_type": "code",
   "execution_count": 25,
   "id": "5b897b38",
   "metadata": {},
   "outputs": [
    {
     "name": "stdout",
     "output_type": "stream",
     "text": [
      "hokushokushokushokushokus\n"
     ]
    }
   ],
   "source": [
    "print('hokus' * 5)\n"
   ]
  },
  {
   "cell_type": "code",
   "execution_count": 26,
   "id": "61fac931",
   "metadata": {},
   "outputs": [
    {
     "name": "stdout",
     "output_type": "stream",
     "text": [
      "28\n"
     ]
    }
   ],
   "source": [
    "print(23+5)"
   ]
  },
  {
   "cell_type": "code",
   "execution_count": 27,
   "id": "c074c79a",
   "metadata": {},
   "outputs": [
    {
     "name": "stdout",
     "output_type": "stream",
     "text": [
      "235\n"
     ]
    }
   ],
   "source": [
    "print('23'+'5')"
   ]
  },
  {
   "cell_type": "markdown",
   "id": "7e3b0ea9",
   "metadata": {},
   "source": [
    "# INPUT"
   ]
  },
  {
   "cell_type": "code",
   "execution_count": 1,
   "id": "bbe1675e",
   "metadata": {},
   "outputs": [
    {
     "name": "stdout",
     "output_type": "stream",
     "text": [
      "What is your name?\n",
      "Adrian\n",
      "Hello, Adrian\n"
     ]
    }
   ],
   "source": [
    "print('What is your name?')\n",
    "user_name = input()\n",
    "print('Hello,',user_name)"
   ]
  },
  {
   "cell_type": "code",
   "execution_count": 2,
   "id": "63b051d0",
   "metadata": {},
   "outputs": [
    {
     "name": "stdout",
     "output_type": "stream",
     "text": [
      "What is your name?Adrian\n",
      "Hello, Adrian\n"
     ]
    }
   ],
   "source": [
    "user_name = input('What is your name?')\n",
    "print('Hello,',user_name)"
   ]
  },
  {
   "cell_type": "code",
   "execution_count": 3,
   "id": "8739ebe0",
   "metadata": {},
   "outputs": [
    {
     "name": "stdout",
     "output_type": "stream",
     "text": [
      "Enter your login: h_potter \n",
      "Enter your native language: British English\n",
      "Your login is h_potter  and you speak British English\n"
     ]
    }
   ],
   "source": [
    "user_name = input('Enter your login: ')\n",
    "native_language = input('Enter your native language: ')\n",
    "print('Your login is',user_name, 'and you speak', native_language )"
   ]
  },
  {
   "cell_type": "markdown",
   "id": "2db4ffd8",
   "metadata": {},
   "source": [
    "\n",
    "# Technical theory"
   ]
  },
  {
   "cell_type": "code",
   "execution_count": null,
   "id": "12f52668",
   "metadata": {},
   "outputs": [],
   "source": [
    "# Source code -> Machine code with either compilation or interpretation "
   ]
  },
  {
   "cell_type": "code",
   "execution_count": 4,
   "id": "96e383cc",
   "metadata": {},
   "outputs": [
    {
     "data": {
      "text/plain": [
       "3"
      ]
     },
     "execution_count": 4,
     "metadata": {},
     "output_type": "execute_result"
    }
   ],
   "source": [
    "7//2"
   ]
  },
  {
   "cell_type": "code",
   "execution_count": 5,
   "id": "4aecaf89",
   "metadata": {},
   "outputs": [
    {
     "name": "stdout",
     "output_type": "stream",
     "text": [
      "3 1\n"
     ]
    }
   ],
   "source": [
    "x = 11\n",
    "y = 4\n",
    "x = x % y\n",
    "x = x % y\n",
    "y = y % x\n",
    "print(x, y)"
   ]
  },
  {
   "cell_type": "code",
   "execution_count": 6,
   "id": "3aac4206",
   "metadata": {},
   "outputs": [
    {
     "name": "stdout",
     "output_type": "stream",
     "text": [
      "Let itsnow\n",
      "And snow\n"
     ]
    }
   ],
   "source": [
    "    print('Let it' + 'snow')\n",
    "    print('And', 'snow')"
   ]
  },
  {
   "cell_type": "code",
   "execution_count": null,
   "id": "d67b2658",
   "metadata": {},
   "outputs": [],
   "source": []
  }
 ],
 "metadata": {
  "kernelspec": {
   "display_name": "Python 3 (ipykernel)",
   "language": "python",
   "name": "python3"
  },
  "language_info": {
   "codemirror_mode": {
    "name": "ipython",
    "version": 3
   },
   "file_extension": ".py",
   "mimetype": "text/x-python",
   "name": "python",
   "nbconvert_exporter": "python",
   "pygments_lexer": "ipython3",
   "version": "3.11.3"
  }
 },
 "nbformat": 4,
 "nbformat_minor": 5
}
